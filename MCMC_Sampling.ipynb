{
 "cells": [
  {
   "cell_type": "code",
   "execution_count": 1,
   "metadata": {},
   "outputs": [],
   "source": [
    "import numpy as np\n",
    "import sys"
   ]
  },
  {
   "cell_type": "code",
   "execution_count": 7,
   "metadata": {},
   "outputs": [
    {
     "data": {
      "text/plain": [
       "array([[ 0,  1,  2,  3],\n",
       "       [ 4,  5,  6,  7],\n",
       "       [ 8,  9, 10, 11],\n",
       "       [12, 13, 14, 15]])"
      ]
     },
     "execution_count": 7,
     "metadata": {},
     "output_type": "execute_result"
    }
   ],
   "source": [
    "# Construct chess board\n",
    "chess_board = np.reshape(np.linspace(dtype=int, num=16, start=0, stop=15), (4,4))\n",
    "# Constrain moves to chess board\n",
    "chess_board_index = [i for i in np.ndindex(4,4)] \n",
    "chess_board"
   ]
  },
  {
   "cell_type": "code",
   "execution_count": 8,
   "metadata": {
    "collapsed": true
   },
   "outputs": [],
   "source": [
    "# Define action space for knight\n",
    "def knight_action(x, y):\n",
    "    # Create empty array for valid moves\n",
    "    valid_actions = np.zeros(shape=(4,4), dtype=int)\n",
    "    # Define possible moves\n",
    "    action_space = [(x+1, y+2), (x+1, y-2),\n",
    "                    (x-1, y+2), (x-1, y-2),\n",
    "                    (x+2, y+1), (x+2, y-1),\n",
    "                    (x-2, y-1), (x-2, y+1)]\n",
    "    # Mark current location\n",
    "    valid_actions[(x,y)] = -1\n",
    "    \n",
    "    # Report valid moves based on current location\n",
    "    for i in action_space:\n",
    "        if i in chess_board_index:\n",
    "            valid_actions[i] = 1\n",
    "    \n",
    "    # Report indices of valid moves\n",
    "    valid_indices = np.dstack(np.where(valid_actions == 1))[0]\n",
    "    \n",
    "    return valid_actions, valid_indices"
   ]
  },
  {
   "cell_type": "code",
   "execution_count": 9,
   "metadata": {
    "collapsed": true
   },
   "outputs": [],
   "source": [
    "# Define action space for knight\n",
    "def knight_action(x, y):\n",
    "    # Create empty array for valid moves\n",
    "    valid_actions = np.zeros(shape=(4,4), dtype=int)\n",
    "    # Define possible moves\n",
    "    action_space = [(x+1, y+2), (x+1, y-2),\n",
    "                    (x-1, y+2), (x-1, y-2),\n",
    "                    (x+2, y+1), (x+2, y-1),\n",
    "                    (x-2, y-1), (x-2, y+1)]\n",
    "    # Mark current location\n",
    "    valid_actions[(x,y)] = -1\n",
    "    \n",
    "    # Report valid moves based on current location\n",
    "    for i in chess_board_index:\n",
    "        if i in action_space:\n",
    "            valid_actions[i] = 1\n",
    "    \n",
    "    # Report indices of valid moves\n",
    "    valid_indices = np.dstack(np.where(valid_actions == 1))[0]\n",
    "    \n",
    "    return valid_actions, valid_indices"
   ]
  },
  {
   "cell_type": "code",
   "execution_count": 10,
   "metadata": {
    "collapsed": true
   },
   "outputs": [],
   "source": [
    "# Select an action with uniform probability based on current location\n",
    "def action_select(position):\n",
    "    # Get valid indices for next move\n",
    "    _, valid_indices = knight_action(position[0], position[1])\n",
    "    # Choose random action\n",
    "    random_action = np.random.choice(valid_indices.shape[0])\n",
    "    # Indices of next move\n",
    "    x, y = valid_indices[random_action][0], valid_indices[random_action][1]\n",
    "    \n",
    "    return x, y"
   ]
  },
  {
   "cell_type": "code",
   "execution_count": 11,
   "metadata": {
    "collapsed": true
   },
   "outputs": [],
   "source": [
    "# Get value of key on chess board at position (x,y) \n",
    "def get_key(position):\n",
    "    return chess_board[position]"
   ]
  },
  {
   "cell_type": "code",
   "execution_count": 12,
   "metadata": {
    "collapsed": true
   },
   "outputs": [],
   "source": [
    "def get_score(trials, print_stat=False):\n",
    "    total_score = 0\n",
    "    position = (0,0)\n",
    "    for i in range(trials):\n",
    "        trial = i + 1\n",
    "        position = action_select(position)\n",
    "        score = get_key(position)\n",
    "        total_score += score\n",
    "        if print_stat:\n",
    "            print_string = (trial, position, score, total_score)\n",
    "            print(\"{}\\n\".format(print_string))\n",
    "            valid_actions = np.zeros(shape=(4,4), dtype=int)\n",
    "            valid_actions[position] = -1\n",
    "            print(\"{}\\n\".format(valid_actions))\n",
    "    return total_score\n",
    "        "
   ]
  },
  {
   "cell_type": "code",
   "execution_count": 13,
   "metadata": {
    "collapsed": true
   },
   "outputs": [],
   "source": [
    "def get_modulo_value(moves, modulo, print_stat=False):\n",
    "    running_sum, modulos  = [], []\n",
    "    for i in range(1,(moves+1)):\n",
    "        score = get_score(moves, print_stat=False)\n",
    "        \n",
    "        # Add current score to running sum\n",
    "        if len(running_sum) > 0:\n",
    "            sum_with_prev = score + running_sum[-1]\n",
    "        else:\n",
    "            sum_with_prev = score\n",
    "\n",
    "        # store modulo values\n",
    "        score_modulo = sum_with_prev % modulo\n",
    "        running_sum.append(sum_with_prev)\n",
    "        modulos.append(score_modulo)\n",
    "\n",
    "        if print_stat: print(i, moves, score, score_modulo, running_sum, modulos)\n",
    "    return running_sum, modulos"
   ]
  },
  {
   "cell_type": "code",
   "execution_count": 16,
   "metadata": {
    "collapsed": true
   },
   "outputs": [],
   "source": [
    "# Since results vary, run sampling inference\n",
    "def sample_modulo_results(moves, modulo, samples=1000, print_stat=False):\n",
    "    means, stds = [], []\n",
    "    for i in range(samples):\n",
    "        _, results = get_modulo_value(moves, modulo, print_stat=print_stat)\n",
    "        modulo_mu = np.mean(results)\n",
    "        modulo_std = np.std(results)\n",
    "        means.append(modulo_mu)\n",
    "        stds.append(modulo_std)\n",
    "        if i % 100 == 0:\n",
    "            print(\"{}/{} iterations complete | mean : {} std: {}\".format(i, samples, np.mean(means), np.std(stds)))\n",
    "    return np.mean(means), np.std(stds)"
   ]
  },
  {
   "cell_type": "code",
   "execution_count": 50,
   "metadata": {
    "collapsed": true
   },
   "outputs": [],
   "source": [
    "# Conditional on two divisors\n",
    "def conditional_sample_modulo_results(moves, modulo_1, modulo_2, samples=1000, print_stat=False):\n",
    "    total_1, total_2 = 0, 0\n",
    "    for i in range(samples):\n",
    "        running_sum, _ = get_modulo_value(moves, modulo_1, print_stat=print_stat)\n",
    "        running_sum = running_sum[-1]\n",
    "        \n",
    "        # If the sum is divisible by first number, check if is it also divisible be the second\n",
    "        if running_sum % modulo_1 == 0:\n",
    "            total_1 += 1\n",
    "            if running_sum % modulo_2 == 0:\n",
    "                total_2 += 1\n",
    "        # Logging for progress \n",
    "        if i > 1 and (i % 1000 == 0):\n",
    "            print(\"{}/{} iterations complete | total_1 : {} total_2: {}\".format(i, samples, total_2, total_1))\n",
    "            \n",
    "    # Probability that sum is divisible by second number, given that it is divisble by first\n",
    "    probability = 1.0*total_2/total_1\n",
    "    print(\"{}/{} probability {}\".format(total_2, total_1, probability))\n",
    "    return probability"
   ]
  },
  {
   "cell_type": "code",
   "execution_count": 45,
   "metadata": {},
   "outputs": [
    {
     "name": "stdout",
     "output_type": "stream",
     "text": [
      "1000/10000 iterations complete | total_1 : 8 total_2: 81 prob: 0.09876543209876543\n",
      "2000/10000 iterations complete | total_1 : 27 total_2: 159 prob: 0.16981132075471697\n",
      "3000/10000 iterations complete | total_1 : 41 total_2: 230 prob: 0.1782608695652174\n",
      "4000/10000 iterations complete | total_1 : 57 total_2: 301 prob: 0.1893687707641196\n",
      "5000/10000 iterations complete | total_1 : 72 total_2: 377 prob: 0.1909814323607427\n",
      "6000/10000 iterations complete | total_1 : 94 total_2: 462 prob: 0.20346320346320346\n",
      "7000/10000 iterations complete | total_1 : 104 total_2: 535 prob: 0.19439252336448598\n",
      "8000/10000 iterations complete | total_1 : 117 total_2: 614 prob: 0.19055374592833876\n",
      "9000/10000 iterations complete | total_1 : 132 total_2: 706 prob: 0.18696883852691218\n",
      "154/782 probability 0.1969309462915601\n",
      "CPU times: user 1min 38s, sys: 1.09 s, total: 1min 39s\n",
      "Wall time: 1min 40s\n"
     ]
    },
    {
     "data": {
      "text/plain": [
       "0.1969309462915601"
      ]
     },
     "execution_count": 45,
     "metadata": {},
     "output_type": "execute_result"
    }
   ],
   "source": [
    "%%time\n",
    "# Moves: 16, Divisible by 13\n",
    "conditional_sample_modulo_results(16, 13, 5, samples=10000, print_stat=False)"
   ]
  },
  {
   "cell_type": "code",
   "execution_count": null,
   "metadata": {
    "collapsed": true
   },
   "outputs": [],
   "source": [
    "%%time\n",
    "# Moves: 512, Divisible by 43\n",
    "conditional_sample_modulo_results(512, 43, 7, samples=100, print_stat=False)"
   ]
  },
  {
   "cell_type": "code",
   "execution_count": 46,
   "metadata": {},
   "outputs": [
    {
     "name": "stdout",
     "output_type": "stream",
     "text": [
      "0/2 probability 0.0\n",
      "CPU times: user 17min 28s, sys: 11.1 s, total: 17min 39s\n",
      "Wall time: 17min 50s\n"
     ]
    },
    {
     "data": {
      "text/plain": [
       "0.0"
      ]
     },
     "execution_count": 46,
     "metadata": {},
     "output_type": "execute_result"
    }
   ],
   "source": [
    "%%time\n",
    "# Moves: 512, Divisible by 43\n",
    "conditional_sample_modulo_results(512, 43, 7, samples=100, print_stat=False)"
   ]
  },
  {
   "cell_type": "code",
   "execution_count": 19,
   "metadata": {
    "scrolled": true
   },
   "outputs": [
    {
     "name": "stdout",
     "output_type": "stream",
     "text": [
      "0/100 iterations complete | mean : 157.248046875 std: 0.0\n",
      "CPU times: user 17min 19s, sys: 10.9 s, total: 17min 30s\n",
      "Wall time: 17min 42s\n"
     ]
    },
    {
     "data": {
      "text/plain": [
       "(154.68896484375, 1.5820478337997763)"
      ]
     },
     "execution_count": 19,
     "metadata": {},
     "output_type": "execute_result"
    }
   ],
   "source": [
    "%%time\n",
    "# Moves: 512, Divisible by 311\n",
    "sample_modulo_results(512, 311, samples=100, print_stat=False)"
   ]
  },
  {
   "cell_type": "code",
   "execution_count": 18,
   "metadata": {},
   "outputs": [
    {
     "name": "stdout",
     "output_type": "stream",
     "text": [
      "0/100 iterations complete | mean : 150.537109375 std: 0.0\n",
      "CPU times: user 17min 8s, sys: 10.7 s, total: 17min 18s\n",
      "Wall time: 17min 29s\n"
     ]
    },
    {
     "data": {
      "text/plain": [
       "(154.96550781249999, 1.4569587249554448)"
      ]
     },
     "execution_count": 18,
     "metadata": {},
     "output_type": "execute_result"
    }
   ],
   "source": [
    "%%time\n",
    "# Moves: 512, Divisible by 311\n",
    "sample_modulo_results(512, 311, samples=100, print_stat=False)"
   ]
  },
  {
   "cell_type": "code",
   "execution_count": 17,
   "metadata": {
    "scrolled": false
   },
   "outputs": [
    {
     "name": "stdout",
     "output_type": "stream",
     "text": [
      "0/100 iterations complete | mean : 153.69921875 std: 0.0\n",
      "CPU times: user 17min 51s, sys: 13 s, total: 18min 4s\n",
      "Wall time: 18min 21s\n"
     ]
    },
    {
     "data": {
      "text/plain": [
       "(155.04218750000001, 1.7398404861557724)"
      ]
     },
     "execution_count": 17,
     "metadata": {},
     "output_type": "execute_result"
    }
   ],
   "source": [
    "%%time\n",
    "# Moves: 512, Divisible by 311\n",
    "sample_modulo_results(512, 311, samples=100, print_stat=False)"
   ]
  },
  {
   "cell_type": "code",
   "execution_count": 151,
   "metadata": {
    "scrolled": false
   },
   "outputs": [
    {
     "name": "stdout",
     "output_type": "stream",
     "text": [
      "0/10000 iterations complete | mean : 4.75 std: 0.0\n",
      "1000/10000 iterations complete | mean : 5.999188311688312 std: 0.4430121364487866\n",
      "2000/10000 iterations complete | mean : 6.023113443278361 std: 0.4439401505870123\n",
      "3000/10000 iterations complete | mean : 6.024658447184272 std: 0.44865703386144257\n",
      "4000/10000 iterations complete | mean : 6.013949637590603 std: 0.4453038018028587\n",
      "5000/10000 iterations complete | mean : 6.010997800439912 std: 0.4461678175495174\n",
      "6000/10000 iterations complete | mean : 6.007654974170972 std: 0.4452101619899116\n",
      "7000/10000 iterations complete | mean : 6.009525424939294 std: 0.44702954798230493\n",
      "8000/10000 iterations complete | mean : 6.007147544056993 std: 0.4436161850145056\n",
      "9000/10000 iterations complete | mean : 6.006811743139651 std: 0.44400866218903673\n",
      "CPU times: user 1min 43s, sys: 1.32 s, total: 1min 44s\n",
      "Wall time: 1min 45s\n"
     ]
    },
    {
     "data": {
      "text/plain": [
       "(6.0056937499999998, 0.44513875384093887)"
      ]
     },
     "execution_count": 151,
     "metadata": {},
     "output_type": "execute_result"
    }
   ],
   "source": [
    "%%time\n",
    "# Moves: 16, Divisible by 13\n",
    "sample_modulo_results(16, 13, samples=100000, print_stat=False)"
   ]
  },
  {
   "cell_type": "code",
   "execution_count": 148,
   "metadata": {},
   "outputs": [
    {
     "name": "stdout",
     "output_type": "stream",
     "text": [
      "0 iterations complete\n",
      "1000 iterations complete\n",
      "2000 iterations complete\n",
      "3000 iterations complete\n",
      "4000 iterations complete\n",
      "5000 iterations complete\n",
      "6000 iterations complete\n",
      "7000 iterations complete\n",
      "8000 iterations complete\n",
      "9000 iterations complete\n",
      "CPU times: user 1min 45s, sys: 1.5 s, total: 1min 46s\n",
      "Wall time: 1min 47s\n"
     ]
    },
    {
     "data": {
      "text/plain": [
       "(5.9970249999999998, 0.44323767499661942)"
      ]
     },
     "execution_count": 148,
     "metadata": {},
     "output_type": "execute_result"
    }
   ],
   "source": [
    "%%time\n",
    "# Moves: 16, Divisible by 13\n",
    "sample_modulo_results(16, 13, samples=10000, print_stat=False)"
   ]
  },
  {
   "cell_type": "code",
   "execution_count": 145,
   "metadata": {},
   "outputs": [
    {
     "name": "stdout",
     "output_type": "stream",
     "text": [
      "CPU times: user 1min 45s, sys: 1.22 s, total: 1min 46s\n",
      "Wall time: 1min 47s\n"
     ]
    },
    {
     "data": {
      "text/plain": [
       "(6.0005812499999998, 0.44114936645406072)"
      ]
     },
     "execution_count": 145,
     "metadata": {},
     "output_type": "execute_result"
    }
   ],
   "source": [
    "%%time\n",
    "sample_modulo_results(16, 13, samples=10000, print_stat=False)"
   ]
  },
  {
   "cell_type": "code",
   "execution_count": 144,
   "metadata": {},
   "outputs": [
    {
     "name": "stdout",
     "output_type": "stream",
     "text": [
      "CPU times: user 1min 43s, sys: 1.19 s, total: 1min 44s\n",
      "Wall time: 1min 45s\n"
     ]
    },
    {
     "data": {
      "text/plain": [
       "(5.9874749999999999, 0.43477891971227461)"
      ]
     },
     "execution_count": 144,
     "metadata": {},
     "output_type": "execute_result"
    }
   ],
   "source": [
    "%%time\n",
    "sample_modulo_results(16, 13, samples=10000, print_stat=False)"
   ]
  },
  {
   "cell_type": "code",
   "execution_count": 143,
   "metadata": {},
   "outputs": [
    {
     "name": "stdout",
     "output_type": "stream",
     "text": [
      "CPU times: user 10.5 s, sys: 160 ms, total: 10.6 s\n",
      "Wall time: 10.7 s\n"
     ]
    },
    {
     "data": {
      "text/plain": [
       "(5.9357499999999996, 0.41273304246159265)"
      ]
     },
     "execution_count": 143,
     "metadata": {},
     "output_type": "execute_result"
    }
   ],
   "source": [
    "%%time\n",
    "sample_modulo_results(16, 13, samples=1000, print_stat=False)"
   ]
  },
  {
   "cell_type": "code",
   "execution_count": null,
   "metadata": {},
   "outputs": [
    {
     "name": "stdout",
     "output_type": "stream",
     "text": [
      "0/1000 iterations complete | mean : 156.509765625 std: 0.0\n"
     ]
    }
   ],
   "source": [
    "%%time\n",
    "# Moves: 512, Divisible by 311\n",
    "sample_modulo_results(512, 311, samples=1000, print_stat=False)"
   ]
  },
  {
   "cell_type": "code",
   "execution_count": 140,
   "metadata": {},
   "outputs": [
    {
     "data": {
      "text/plain": [
       "3.8125"
      ]
     },
     "execution_count": 140,
     "metadata": {},
     "output_type": "execute_result"
    }
   ],
   "source": [
    "_, moves_16_mod_13 = get_modulo_value(16, 13, print_stat=False)\n",
    "moves_16_mod_13\n",
    "np.mean(moves_16_mod_13)"
   ]
  }
 ],
 "metadata": {
  "kernelspec": {
   "display_name": "Python (w266)",
   "language": "python",
   "name": "w266"
  },
  "language_info": {
   "codemirror_mode": {
    "name": "ipython",
    "version": 3
   },
   "file_extension": ".py",
   "mimetype": "text/x-python",
   "name": "python",
   "nbconvert_exporter": "python",
   "pygments_lexer": "ipython3",
   "version": "3.6.4"
  }
 },
 "nbformat": 4,
 "nbformat_minor": 2
}
